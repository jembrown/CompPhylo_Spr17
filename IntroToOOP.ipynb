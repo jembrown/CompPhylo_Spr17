{
 "cells": [
  {
   "cell_type": "markdown",
   "metadata": {},
   "source": [
    "### Object-Oriented Programming (OOP)\n",
    "\n",
    "Most modern programming languages (e.g., Python, C++, Java) are object-oriented to varying degrees. By allowing programmers to create objects that encapsulate information and methods in natural ways, code can become much more readable and compact. It can also be more easily debugged. Below, I've written outlines for two new object types (classes) that could be used in a university registrar's office. The first defines a class to hold information about a course. The second holds information about a student, which includes the courses in which they're enrolled."
   ]
  },
  {
   "cell_type": "code",
   "execution_count": 1,
   "metadata": {
    "collapsed": false
   },
   "outputs": [],
   "source": [
    "class course(object):\n",
    "    \"\"\"\n",
    "    This class defines a college course in which a student might enroll.\n",
    "    \"\"\"\n",
    "\n",
    "    # Most courses are 3 credit hours, so we set that as a default.\n",
    "    # The other fields do not have natural defaults.\n",
    "    \n",
    "    def __init__(self,name=\"\",hours=3,instructor=\"\",room=\"\"):\n",
    "        self.name = name\n",
    "        self.hours = hours\n",
    "        self.instructor = instructor\n",
    "        self.room = room\n",
    "        self.studentNames = []     # List to store course roster\n",
    "        self.grades = {}           # Dictionary to store student grades\n",
    "        \n",
    "    def addStudent(self,newStudent):\n",
    "        if newStudent not in self.studentNames:   # Only add student names if they're not currently on roster\n",
    "            self.studentNames.append(newStudent)\n",
    "\n",
    "    def printRoster(self):\n",
    "        print(\"The current roster for \" + self.name + \" includes:\")\n",
    "        for student in self.studentNames:\n",
    "            print(student)\n",
    "\n",
    "    def updateStudentGrade(self,studentName,grade):\n",
    "        self.grades[studentName] = grade\n",
    "        \n",
    "    def reportStudentGrade(self,studentName):\n",
    "        print(self.grades[studentName])\n",
    "            \n",
    "class studentRecord(object):\n",
    "    \"\"\"\n",
    "    This class is an example of a student record that might be stored by a registrar.\n",
    "    \"\"\"\n",
    "    \n",
    "    def __init__(self,name,DOB,ID):\n",
    "        self.name = name\n",
    "        self.DOB = DOB\n",
    "        self.ID = ID\n",
    "        self.courses = [] # Add classes as the student enrolls\n",
    "        \n",
    "    def printRecord(self):\n",
    "        print(\"Name: \"+self.name)\n",
    "        print(\"DOB: \"+self.DOB)\n",
    "        print(\"ID: \"+self.ID)\n",
    "        print(\"Courses: \")\n",
    "        for course in self.courses:\n",
    "            print(\"  \"+course.name)\n",
    "        \n",
    "    def addCourse(self,course):\n",
    "        if course not in self.courses:    # Only add course if it's not already there\n",
    "            self.courses.append(course)"
   ]
  },
  {
   "cell_type": "markdown",
   "metadata": {},
   "source": [
    "Now that we've defined some useful classes, let's see how we might use them. Let's start by defining what courses are currently being taught."
   ]
  },
  {
   "cell_type": "code",
   "execution_count": 2,
   "metadata": {
    "collapsed": true
   },
   "outputs": [],
   "source": [
    "# Courses\n",
    "\n",
    "compPhylo = course(name=\"Computational Phylogenetics\",instructor=\"Jeremy Brown\",room=\"LSB 248\")\n",
    "uwb = course(name=\"Underwater Basket Weaving\",instructor=\"Scuba Steve\",room=\"Natatorium\")\n",
    "improv = course(name=\"Improvisational Comedy\",hours=2,instructor=\"Stephen Colbert\",room=\"Ed Sullivan Theater\")"
   ]
  },
  {
   "cell_type": "markdown",
   "metadata": {},
   "source": [
    "Now we'll look at the students who are enrolled."
   ]
  },
  {
   "cell_type": "code",
   "execution_count": 3,
   "metadata": {
    "collapsed": false
   },
   "outputs": [],
   "source": [
    "# Students\n",
    "\n",
    "chuck = studentRecord(name=\"Charles Darwin\",DOB=\"12 February 1809\",ID=\"1859\")\n",
    "ron = studentRecord(name=\"Sir Ronald Aylmer Fisher\",DOB=\"17 February 1890\",ID=\"1930\")"
   ]
  },
  {
   "cell_type": "markdown",
   "metadata": {},
   "source": [
    "Now we need to enroll our students in some courses."
   ]
  },
  {
   "cell_type": "code",
   "execution_count": 4,
   "metadata": {
    "collapsed": false
   },
   "outputs": [],
   "source": [
    "# Naturally, both of these students are interested in phylogenetics. We'll begin by adding them to the course roster.\n",
    "\n",
    "compPhylo.addStudent(chuck.name) # Darwin's name is added to the CompPhylo roster\n",
    "compPhylo.addStudent(ron.name)   # Now Fisher's name is added\n",
    "\n",
    "# Now let's add this course to each of their student records\n",
    "\n",
    "chuck.addCourse(compPhylo)  # Note that we're passing a course object as an argument here\n",
    "ron.addCourse(compPhylo)\n",
    "\n",
    "# Fisher also wants to take improv comedy, while Darwin is interested in basket weaving\n",
    "improv.addStudent(ron.name)\n",
    "ron.addCourse(improv)\n",
    "\n",
    "uwb.addStudent(chuck.name)\n",
    "chuck.addCourse(uwb)"
   ]
  },
  {
   "cell_type": "markdown",
   "metadata": {},
   "source": [
    "Now let's double check that everything was set properly:"
   ]
  },
  {
   "cell_type": "code",
   "execution_count": 5,
   "metadata": {
    "collapsed": false
   },
   "outputs": [
    {
     "name": "stdout",
     "output_type": "stream",
     "text": [
      "**** CHECKING COURSE ROSTERS ****\n",
      "\n",
      "The current roster for Computational Phylogenetics includes:\n",
      "Charles Darwin\n",
      "Sir Ronald Aylmer Fisher\n",
      "\n",
      "The current roster for Underwater Basket Weaving includes:\n",
      "Charles Darwin\n",
      "\n",
      "The current roster for Improvisational Comedy includes:\n",
      "Sir Ronald Aylmer Fisher\n",
      "\n",
      "**** CHECKING STUDENT RECORDS ****\n",
      "\n",
      "Name: Charles Darwin\n",
      "DOB: 12 February 1809\n",
      "ID: 1859\n",
      "Courses: \n",
      "  Computational Phylogenetics\n",
      "  Underwater Basket Weaving\n",
      "\n",
      "Name: Sir Ronald Aylmer Fisher\n",
      "DOB: 17 February 1890\n",
      "ID: 1930\n",
      "Courses: \n",
      "  Computational Phylogenetics\n",
      "  Improvisational Comedy\n",
      "\n"
     ]
    }
   ],
   "source": [
    "# Check course rosters\n",
    "\n",
    "print(\"**** CHECKING COURSE ROSTERS ****\"); print()\n",
    "for course in [compPhylo,uwb,improv]:\n",
    "    course.printRoster()\n",
    "    print()\n",
    "    \n",
    "# Now check student records\n",
    "\n",
    "print(\"**** CHECKING STUDENT RECORDS ****\"); print()\n",
    "for student in [chuck,ron]:\n",
    "    student.printRecord()\n",
    "    print()"
   ]
  }
 ],
 "metadata": {
  "anaconda-cloud": {},
  "kernelspec": {
   "display_name": "Python [conda root]",
   "language": "python",
   "name": "conda-root-py"
  },
  "language_info": {
   "codemirror_mode": {
    "name": "ipython",
    "version": 3
   },
   "file_extension": ".py",
   "mimetype": "text/x-python",
   "name": "python",
   "nbconvert_exporter": "python",
   "pygments_lexer": "ipython3",
   "version": "3.5.2"
  }
 },
 "nbformat": 4,
 "nbformat_minor": 1
}
