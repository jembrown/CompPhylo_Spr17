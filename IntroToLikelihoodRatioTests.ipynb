{
 "cells": [
  {
   "cell_type": "markdown",
   "metadata": {},
   "source": [
    "## Introduction to Likelihood Ratio Tests (LRTs)\n",
    "\n",
    "A common problem after we've found the maximum-likelihood estimate (MLE) of some parameter, $\\mu$, is to ask whether alternative values have a likelihood so much lower than the maximum that we can exclude them as reasonable possibilities. More formally, in a frequentist framework, we'd like to know if we can reject a possible value of $\\mu$ at $\\alpha=0.05$. For example, based on our reading of previous literature about populations of salamanders around the US, we might expect that the average snout-to-vent (SVL) lengths of salamanders in our local population is 5.6 cm. To see if we have smaller or larger salamanders than the rest of the country, we go collect 15 of them and get the following lengths:"
   ]
  },
  {
   "cell_type": "code",
   "execution_count": 1,
   "metadata": {
    "collapsed": true
   },
   "outputs": [],
   "source": [
    "sallieSVLs = [5.94,5.89,7.31,5.98,6.27,5.00,5.29,6.79,5.19,5.54,6.83,6.20,6.51,5.33,6.08]"
   ]
  },
  {
   "cell_type": "markdown",
   "metadata": {},
   "source": [
    "Since length is a continuous trait that is probably controlled by many genes of small effect, it might be reasonable to model SVLs in our population with a normal distribution. For the moment, we're going to assume that the variation in lengths (i.e., standard deviation, sd) is the same as other populations ($sd=0.7$) and we're interested in estimating the mean ($\\mu$). Ok, now we need a way to calculate the likelihood for our normal model. We'll make the additional assumption that the length of each salamander is roughly independent, because they're not closely related. In that case, we can calculate the likelihood for the sample as a whole by taking the product of the likelihoods for each length:"
   ]
  },
  {
   "cell_type": "code",
   "execution_count": 2,
   "metadata": {
    "collapsed": false
   },
   "outputs": [],
   "source": [
    "from scipy.stats import norm\n",
    "\n",
    "def like(data,mean,sd=0.7):   # Assuming standard deviation is known (0.7).\n",
    "    \"\"\"\n",
    "    This function takes data as a list of continuous values and calculates the joint\n",
    "    probability of those values assuming they are independent draws from a Normal\n",
    "    distribution with the specified mean and standard deviation.\n",
    "    \"\"\"\n",
    "    try:               # Note the use of the try...except pair to catch errors\n",
    "        like = 1\n",
    "        for d in data:\n",
    "            like *= norm.pdf(d,loc=mean,scale=sd)\n",
    "        return like\n",
    "    except:\n",
    "        print(\"You provided non-numeric data to the likelihood function. Try again...\")\n",
    "        raise"
   ]
  },
  {
   "cell_type": "markdown",
   "metadata": {},
   "source": [
    "Now we need an algorithm that will find our MLE and associated likelihood. Here's the basic one we talked about in class:"
   ]
  },
  {
   "cell_type": "code",
   "execution_count": 3,
   "metadata": {
    "collapsed": true
   },
   "outputs": [],
   "source": [
    "def hillClimb (data,param):\n",
    "    \"\"\"\n",
    "    This hill-climbing function will find the maximum-likelihood estimate and score by\n",
    "    relying on a function called like() to calculate likelihoods. It is only set up to \n",
    "    explore values of one parameter. The data can be defined in any way, as long as they\n",
    "    are consistent with what the like() function expects.\n",
    "    \"\"\"\n",
    "    \n",
    "    diff = 0.1\n",
    "    pCurr = param\n",
    "    \n",
    "    while ( diff > 0.001):\n",
    "        L_pCurr = like(data,pCurr)\n",
    "        L_pUp = like(data,pCurr+diff)\n",
    "        L_pDown = like(data,pCurr-diff)\n",
    "\n",
    "        while ( L_pUp > L_pCurr ):\n",
    "            pCurr = pCurr + diff\n",
    "            L_pCurr = like(data,pCurr)\n",
    "            L_pUp = like(data,pCurr+diff)\n",
    "            L_pDown = like(data,pCurr-diff)\n",
    "\n",
    "        while (L_pDown > L_pCurr ):\n",
    "            pCurr = pCurr - diff\n",
    "            L_pCurr = like(data,pCurr)\n",
    "            L_pUp = like(data,pCurr+diff)\n",
    "            L_pDown = like(data,pCurr-diff)\n",
    "\n",
    "        diff /= 2\n",
    "\n",
    "    return (pCurr,L_pCurr)  # Returns tuple with BOTH MLE and likelihood score\n"
   ]
  },
  {
   "cell_type": "markdown",
   "metadata": {},
   "source": [
    "Now we'll use our hill-climbing function to find the MLE and associated maximum likelihood for our salamander SVL data. We'll start our search at the expected mean based on our previous reading."
   ]
  },
  {
   "cell_type": "code",
   "execution_count": 4,
   "metadata": {
    "collapsed": false
   },
   "outputs": [
    {
     "name": "stdout",
     "output_type": "stream",
     "text": [
      "The MLE is 6.01 cm with likelihood score 3.7170E-07.\n"
     ]
    }
   ],
   "source": [
    "svlML = hillClimb(sallieSVLs,5.6)\n",
    "print(\"The MLE is %.2f cm with likelihood score %.4E.\" % svlML)\n",
    "\n",
    "# Note the Python string formatting used above. Each of the elements in the string\n",
    "# beginning with % indicates a placeholder for a value. These values are stored in the svlML\n",
    "# tuple that follows after the string. A \"%f\" element indicates a float. A \"%.2f\" element\n",
    "# indicates a float rounded to 2 decimal places. A \"%E\" element indicates a number with \n",
    "# scientific notation. Similarly, \"%.4E\" indicates scientific notation with 4 decimal places.\n"
   ]
  },
  {
   "cell_type": "markdown",
   "metadata": {},
   "source": [
    "Interesting! The normal distribution that best fits our salamander SVL data has an MLE for the mean (6.01) that is larger than what we expected based on our previous reading (5.60). Let's compare the likelihood for the MLE to the likelihood for our _a priori_ expectation."
   ]
  },
  {
   "cell_type": "code",
   "execution_count": 5,
   "metadata": {
    "collapsed": false
   },
   "outputs": [
    {
     "name": "stdout",
     "output_type": "stream",
     "text": [
      "The likelihood score for our expected mean of 5.6 cm is: 2.8364E-08\n"
     ]
    }
   ],
   "source": [
    "print(\"The likelihood score for our expected mean of 5.6 cm is: %.4E\" % like(sallieSVLs,5.6))"
   ]
  },
  {
   "cell_type": "markdown",
   "metadata": {},
   "source": [
    "Ok, makes sense. The likelihood for our previous expectation is lower than that of the MLE we estimated. But how much lower is it? Let's calculate the ratio of these likelihoods"
   ]
  },
  {
   "cell_type": "code",
   "execution_count": 6,
   "metadata": {
    "collapsed": false
   },
   "outputs": [
    {
     "name": "stdout",
     "output_type": "stream",
     "text": [
      "The likelihood ratio is: 13.104546\n"
     ]
    }
   ],
   "source": [
    "print(\"The likelihood ratio is: %f\" % (like(sallieSVLs,6.01)/like(sallieSVLs,5.6)) )"
   ]
  },
  {
   "cell_type": "markdown",
   "metadata": {},
   "source": [
    "Hmmmm, the probability of observing our set of 15 SVLs is 13 times higher for our MLE than our previous expectation. That seems like a lot. Is it enough to say that we can reject the average we took from the literature and confidently assert that we have larger salamanders? As it turns out there's some elegant theory to provide guidance about this, but let's pretend we don't know about that. What could we do to try and figure this out? A tedious, but straightforward way to tackle this is to simulate lots of data sets assuming 5.6 cm is the true mean and see how often we find a likelihood ratio this big. Ok, let's give it a try.\n",
    "\n",
    "First, we'll need to simulate a bunch of datasets with 15 lengths drawn from a normal with mean=5.6 and sd=0.7."
   ]
  },
  {
   "cell_type": "code",
   "execution_count": 7,
   "metadata": {
    "collapsed": true
   },
   "outputs": [],
   "source": [
    "datasets = []\n",
    "\n",
    "# Set the number of simulations. More simulations = greater precision, but more time.\n",
    "numReps = 1000 \n",
    "\n",
    "for _ in range(numReps):\n",
    "    datasets.append(norm.rvs(loc=5.6,scale=0.7,size=15))"
   ]
  },
  {
   "cell_type": "markdown",
   "metadata": {},
   "source": [
    "Ok, now that we've got all of these datasets, let's calculate their likelihoods for the true mean used in the simulations."
   ]
  },
  {
   "cell_type": "code",
   "execution_count": 8,
   "metadata": {
    "collapsed": false
   },
   "outputs": [],
   "source": [
    "trueLikes = []\n",
    "\n",
    "for rep in range(numReps):\n",
    "    trueLikes.append(like(datasets[rep],mean=5.6))"
   ]
  },
  {
   "cell_type": "markdown",
   "metadata": {},
   "source": [
    "Now, let's find the MLE for each dataset and record the associated maximum likelihood."
   ]
  },
  {
   "cell_type": "code",
   "execution_count": 9,
   "metadata": {
    "collapsed": false
   },
   "outputs": [
    {
     "name": "stdout",
     "output_type": "stream",
     "text": [
      " 0  25  50  75  100  125  150  175  200  225  250  275  300  325  350  375  400  425  450  475  500  525  550  575  600  625  650  675  700  725  750  775  800  825  850  875  900  925  950  975 "
     ]
    }
   ],
   "source": [
    "maxLikes = []\n",
    "\n",
    "for rep in range(numReps):\n",
    "    if rep % 25 is 0:\n",
    "        print(\" %s \" % rep,end=\"\")\n",
    "    MLvals = hillClimb(datasets[rep],5.6)\n",
    "    maxLikes.append(MLvals[1])"
   ]
  },
  {
   "cell_type": "markdown",
   "metadata": {},
   "source": [
    "Lastly, we just need to calculate the likelihood ratios across the null simulations."
   ]
  },
  {
   "cell_type": "code",
   "execution_count": 10,
   "metadata": {
    "collapsed": false
   },
   "outputs": [],
   "source": [
    "LRs = []\n",
    "\n",
    "for rep in range(numReps):\n",
    "    LRs.append(maxLikes[rep]/trueLikes[rep])"
   ]
  },
  {
   "cell_type": "markdown",
   "metadata": {},
   "source": [
    "Let's take a look at a histogram of the ratios from our simulations under the null and compare the values to our observed ratio."
   ]
  },
  {
   "cell_type": "code",
   "execution_count": 11,
   "metadata": {
    "collapsed": false,
    "scrolled": true
   },
   "outputs": [
    {
     "data": {
      "image/png": "[encoded data removed]",
      "text/plain": [
       "<matplotlib.figure.Figure at 0x10ed63eb8>"
      ]
     },
     "metadata": {},
     "output_type": "display_data"
    }
   ],
   "source": [
    "import matplotlib.pyplot as plt\n",
    "\n",
    "numBins = 1000\n",
    "\n",
    "n, bins, patches = plt.hist(LRs, numBins, normed=1, facecolor='blue', alpha=0.75)\n",
    "plt.xlabel('Likelihood Ratio')\n",
    "plt.ylabel('Frequency')\n",
    "plt.axis([1, 15, 0, max(n)+0.1])\n",
    "plt.grid(True)\n",
    "\n",
    "# A vertical line will indicate the position of our observed LR\n",
    "obsLR = (like(sallieSVLs,6.01)/like(sallieSVLs,5.6))\n",
    "plt.plot([obsLR,obsLR], [0, 2], 'r-', lw=5)\n",
    "\n",
    "plt.show()\n",
    "\n",
    "# Empirical likelihood ratio shown in red"
   ]
  },
  {
   "cell_type": "markdown",
   "metadata": {},
   "source": [
    "Hmmmm, well, our observed value seems a lot larger than most of our simulated values. To be precise, we should ask what proportion of simulated LRs are bigger than our observed."
   ]
  },
  {
   "cell_type": "code",
   "execution_count": 12,
   "metadata": {
    "collapsed": false
   },
   "outputs": [
    {
     "data": {
      "text/plain": [
       "0.029"
      ]
     },
     "execution_count": 12,
     "metadata": {},
     "output_type": "execute_result"
    }
   ],
   "source": [
    "extCount = 0        # Initializing a counter for the proportion of extreme values\n",
    "for LR in LRs:\n",
    "    if LR > obsLR:\n",
    "        extCount += 1  # Incrementing counter when simulated value greater than observed\n",
    "extCount/numReps    # Printing the proportion that are greater than our observed."
   ]
  },
  {
   "cell_type": "markdown",
   "metadata": {},
   "source": [
    "As it turns out, there is only a very small probability (< 0.03) of observing a likelihood ratio this big or bigger if the true mean was 5.6 cm. Thus, we can reject 5.6 cm as our mean at an $\\alpha=0.05$. So it seems that our salamanders are likely larger than average!\n",
    "\n",
    "There's also an interesting pattern here that may not be obvious, but just trust me for a second. First, let's find a value such that only 5% of our simulations have a larger likelihood ratio. This is an estimate of the critical value for $\\alpha=0.5$ in the hypothesis test we just conducted."
   ]
  },
  {
   "cell_type": "code",
   "execution_count": 13,
   "metadata": {
    "collapsed": false
   },
   "outputs": [
    {
     "name": "stdout",
     "output_type": "stream",
     "text": [
      "alpha_0.05 = 8.09155380936\n"
     ]
    }
   ],
   "source": [
    "import math  # Importing math library to calculate logs\n",
    "\n",
    "LRs_sorted = sorted(LRs) # Sorting our likelihood ratios\n",
    "\n",
    "# Finding the value in the 95th percentile of our sorted list\n",
    "critValue = LRs_sorted[round(0.95*len(LRs_sorted))]\n",
    "\n",
    "print(\"alpha_0.05 = %s\" % critValue)"
   ]
  },
  {
   "cell_type": "markdown",
   "metadata": {},
   "source": [
    "Just for kicks, let's take the log of this value and multiply it by 2"
   ]
  },
  {
   "cell_type": "code",
   "execution_count": 14,
   "metadata": {
    "collapsed": false
   },
   "outputs": [
    {
     "data": {
      "text/plain": [
       "4.181641556123902"
      ]
     },
     "execution_count": 14,
     "metadata": {},
     "output_type": "execute_result"
    }
   ],
   "source": [
    "2*math.log(critValue)"
   ]
  },
  {
   "cell_type": "markdown",
   "metadata": {},
   "source": [
    "Now, I realize this is a little out of the blue, but here's a table of critical values for a chi-squared distribution:\n",
    "\n",
    "http://sites.stat.psu.edu/~mga/401/tables/Chi-square-table.pdf\n",
    "\n",
    "If you focus on the column for $\\alpha=0.05$, you should see one value that looks very similar to the value you calculated above (assuming you used a reasonably large number of simulations). \n",
    "\n",
    "$\\chi_{0.05}^2 = 3.841$ for $df=1$.\n",
    "\n",
    "Interesting. Let's take the log of each of our likelihood ratios and multiply them by 2."
   ]
  },
  {
   "cell_type": "code",
   "execution_count": 15,
   "metadata": {
    "collapsed": true
   },
   "outputs": [],
   "source": [
    "LRs_log = [2*math.log(LR) for LR in LRs]"
   ]
  },
  {
   "cell_type": "markdown",
   "metadata": {},
   "source": [
    "Now, let's plot a histogram for these log-likelihood ratios."
   ]
  },
  {
   "cell_type": "code",
   "execution_count": 16,
   "metadata": {
    "collapsed": false
   },
   "outputs": [
    {
     "data": {
      "image/png": "[encoded data removed]",
      "text/plain": [
       "<matplotlib.figure.Figure at 0x11401bd68>"
      ]
     },
     "metadata": {},
     "output_type": "display_data"
    }
   ],
   "source": [
    "numBins = 50\n",
    "\n",
    "n, bins, patches = plt.hist(LRs_log, numBins, normed=1, facecolor='blue', alpha=0.75)\n",
    "plt.xlabel('Log-Likelihood Ratio')\n",
    "plt.ylabel('Frequency')\n",
    "plt.axis([0, 10, 0, max(n)+0.1])\n",
    "plt.grid(True)\n",
    "\n",
    "# A vertical line will indicate the position of our observed LR\n",
    "plt.plot([2*math.log(obsLR),2*math.log(obsLR)], [0, 2], 'r-', lw=5)\n",
    "\n",
    "plt.show()\n",
    "\n",
    "# Empirical likelihood ratio shown in red"
   ]
  },
  {
   "cell_type": "markdown",
   "metadata": {},
   "source": [
    "How does this compare to a $\\chi_{df=1}^2$ distribution? For comparison, go here\n",
    "    \n",
    "https://jeffreyjose.com/stats/dist/\n",
    "    \n",
    "then scroll down to the chi-squared distributions and set $df=1$.\n",
    "\n",
    "It should look pretty similar! As it turns out, when you fit a model that has one estimated (or free) parameter and compare those likelihoods to a model with only fixed parameters, the resulting values for $2*log(LR)$ follow a $\\chi^2$ distribution with $df=1$. More generally, anytime you compare nested models* with different numbers of free parameters, the likelihood ratios in the null case follow a $\\chi^2$ distribution with _df_ equal to the difference in the number of free parameters between the models. Therefore, we can conduct hypothesis tests in a frequentist framework by calculating likelihood ratios between models and comparing them to the appropriate $\\chi^2$ critical value.\n",
    "\n",
    "*By nested models, we mean that one can recover the model with fewer parameters by simply fixing the values of some parameters in the more complex model."
   ]
  }
 ],
 "metadata": {
  "anaconda-cloud": {},
  "kernelspec": {
   "display_name": "Python [conda root]",
   "language": "python",
   "name": "conda-root-py"
  },
  "language_info": {
   "codemirror_mode": {
    "name": "ipython",
    "version": 3
   },
   "file_extension": ".py",
   "mimetype": "text/x-python",
   "name": "python",
   "nbconvert_exporter": "python",
   "pygments_lexer": "ipython3",
   "version": "3.5.2"
  }
 },
 "nbformat": 4,
 "nbformat_minor": 1
}
